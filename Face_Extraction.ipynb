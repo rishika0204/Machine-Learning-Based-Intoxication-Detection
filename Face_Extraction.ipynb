{
  "nbformat": 4,
  "nbformat_minor": 0,
  "metadata": {
    "colab": {
      "provenance": [],
      "gpuType": "T4"
    },
    "kernelspec": {
      "name": "python3",
      "display_name": "Python 3"
    },
    "language_info": {
      "name": "python"
    },
    "accelerator": "GPU"
  },
  "cells": [
    {
      "cell_type": "code",
      "source": [
        "import cv2\n",
        "import numpy as np"
      ],
      "metadata": {
        "id": "cNks4ni-26-L"
      },
      "execution_count": null,
      "outputs": []
    },
    {
      "cell_type": "code",
      "execution_count": null,
      "metadata": {
        "id": "oHcYHqk023Q4",
        "colab": {
          "base_uri": "https://localhost:8080/"
        },
        "outputId": "d24b92dc-6164-4077-9e43-dbe30a03c4d4"
      },
      "outputs": [
        {
          "output_type": "stream",
          "name": "stdout",
          "text": [
            "Video processing complete. The cropped video is saved as: sample_output.mp4\n"
          ]
        }
      ],
      "source": [
        "import cv2\n",
        "\n",
        "# Load the video\n",
        "input_video_path = \"sample.mp4\"\n",
        "output_video_path = \"sample_output.mp4\"\n",
        "\n",
        "# Load the pre-trained face detector (Haar Cascade)\n",
        "face_cascade = cv2.CascadeClassifier(cv2.data.haarcascades + 'haarcascade_frontalface_default.xml')\n",
        "\n",
        "# Open the input video\n",
        "video = cv2.VideoCapture(input_video_path)\n",
        "\n",
        "# Get the frame width, height, and FPS\n",
        "frame_width = int(video.get(cv2.CAP_PROP_FRAME_WIDTH))\n",
        "frame_height = int(video.get(cv2.CAP_PROP_FRAME_HEIGHT))\n",
        "fps = int(video.get(cv2.CAP_PROP_FPS))\n",
        "\n",
        "# Prepare the output video writer\n",
        "output_video = cv2.VideoWriter(output_video_path, cv2.VideoWriter_fourcc(*'mp4v'), fps, (frame_width, frame_height))\n",
        "\n",
        "# Loop through each frame in the video\n",
        "while True:\n",
        "    ret, frame = video.read()\n",
        "    if not ret:\n",
        "        break  # Exit loop if there are no more frames\n",
        "\n",
        "    # Convert the frame to grayscale for face detection\n",
        "    gray_frame = cv2.cvtColor(frame, cv2.COLOR_BGR2GRAY)\n",
        "\n",
        "    # Detect faces in the frame\n",
        "    faces = face_cascade.detectMultiScale(gray_frame, scaleFactor=1.1, minNeighbors=5, minSize=(30, 30))\n",
        "\n",
        "    if len(faces) > 0:\n",
        "        # Crop the first detected face\n",
        "        x, y, w, h = faces[0]  # Assuming the first detected face is the one we want to crop\n",
        "        face_frame = frame[y:y+h, x:x+w]\n",
        "\n",
        "        # Resize the face to fit the original frame size (optional)\n",
        "        resized_face_frame = cv2.resize(face_frame, (frame_width, frame_height))\n",
        "\n",
        "        # Write the resized face frame to the output video\n",
        "        output_video.write(resized_face_frame)\n",
        "    else:\n",
        "        # Write the original frame if no face is detected\n",
        "        output_video.write(frame)\n",
        "\n",
        "# Release the video objects\n",
        "video.release()\n",
        "output_video.release()\n",
        "\n",
        "print(\"Video processing complete. The cropped video is saved as:\", output_video_path)\n"
      ]
    }
  ]
}