{
  "nbformat": 4,
  "nbformat_minor": 0,
  "metadata": {
    "colab": {
      "provenance": [],
      "gpuType": "T4"
    },
    "kernelspec": {
      "name": "python3",
      "display_name": "Python 3"
    },
    "language_info": {
      "name": "python"
    },
    "accelerator": "GPU"
  },
  "cells": [
    {
      "cell_type": "code",
      "source": [
        "import cv2\n",
        "import numpy as np"
      ],
      "metadata": {
        "id": "cNks4ni-26-L"
      },
      "execution_count": null,
      "outputs": []
    },
    {
      "cell_type": "markdown",
      "source": [
        "# New section"
      ],
      "metadata": {
        "id": "9KTHlww2dQ1Z"
      }
    },
    {
      "cell_type": "code",
      "execution_count": null,
      "metadata": {
        "id": "oHcYHqk023Q4",
        "colab": {
          "base_uri": "https://localhost:8080/"
        },
        "outputId": "5076a607-d667-4a91-f0e8-bc28452224ba"
      },
      "outputs": [
        {
          "output_type": "stream",
          "name": "stdout",
          "text": [
            "Video processing complete. The cropped video is saved as: sample_output.mp4\n"
          ]
        }
      ],
      "source": [
        "import cv2\n",
        "\n",
        "# Load the video\n",
        "input_video_path = \"sample.mp4\"\n",
        "output_video_path = \"sample_output.mp4\"\n",
        "\n",
        "# Load the pre-trained face detector (Haar Cascade)\n",
        "face_cascade = cv2.CascadeClassifier(cv2.data.haarcascades + 'haarcascade_frontalface_default.xml')\n",
        "\n",
        "# Open the input video\n",
        "video = cv2.VideoCapture(input_video_path)\n",
        "\n",
        "# Get the frame width, height, and FPS\n",
        "frame_width = int(video.get(cv2.CAP_PROP_FRAME_WIDTH))\n",
        "frame_height = int(video.get(cv2.CAP_PROP_FRAME_HEIGHT))\n",
        "fps = int(video.get(cv2.CAP_PROP_FPS))\n",
        "\n",
        "# Prepare the output video writer\n",
        "output_video = cv2.VideoWriter(output_video_path, cv2.VideoWriter_fourcc(*'mp4v'), fps, (frame_width, frame_height))\n",
        "\n",
        "# Loop through each frame in the video\n",
        "while True:\n",
        "    ret, frame = video.read()\n",
        "    if not ret:\n",
        "        break  # Exit loop if there are no more frames\n",
        "\n",
        "    # Convert the frame to grayscale for face detection\n",
        "    gray_frame = cv2.cvtColor(frame, cv2.COLOR_BGR2GRAY)\n",
        "\n",
        "    # Detect faces in the frame\n",
        "    faces = face_cascade.detectMultiScale(gray_frame, scaleFactor=1.1, minNeighbors=5, minSize=(30, 30))\n",
        "\n",
        "    if len(faces) > 0:\n",
        "        # Crop the first detected face\n",
        "        x, y, w, h = faces[0]  # Assuming the first detected face is the one we want to crop\n",
        "        face_frame = frame[y:y+h, x:x+w]\n",
        "\n",
        "        # Resize the face to fit the original frame size (optional)\n",
        "        resized_face_frame = cv2.resize(face_frame, (frame_width, frame_height))\n",
        "\n",
        "        # Write the resized face frame to the output video\n",
        "        output_video.write(resized_face_frame)\n",
        "    else:\n",
        "        # Write the original frame if no face is detected\n",
        "        output_video.write(frame)\n",
        "\n",
        "# Release the video objects\n",
        "video.release()\n",
        "output_video.release()\n",
        "\n",
        "print(\"Video processing complete. The cropped video is saved as:\", output_video_path)\n"
      ]
    },
    {
      "cell_type": "code",
      "source": [
        "import cv2\n",
        "import numpy as np\n",
        "from skimage.metrics import structural_similarity as ssim\n",
        "\n",
        "# Function to calculate PSNR\n",
        "def calculate_psnr(original, processed):\n",
        "    mse = np.mean((original - processed) ** 2)\n",
        "    if mse == 0:\n",
        "        return 100\n",
        "    max_pixel = 255.0\n",
        "    psnr_value = 20 * np.log10(max_pixel / np.sqrt(mse))\n",
        "    return psnr_value\n",
        "\n"
      ],
      "metadata": {
        "id": "4MD5lTbS-9Gn"
      },
      "execution_count": null,
      "outputs": []
    },
    {
      "cell_type": "code",
      "source": [
        "import cv2\n",
        "def calculate_ssim(original, processed):\n",
        "    original_gray = cv2.cvtColor(original, cv2.COLOR_BGR2GRAY)\n",
        "    processed_gray = cv2.cvtColor(processed, cv2.COLOR_BGR2GRAY)\n",
        "    ssim_value, _ = ssim(original_gray, processed_gray, full=True)\n",
        "    return ssim_value"
      ],
      "metadata": {
        "id": "44TMVcQf-_QP"
      },
      "execution_count": null,
      "outputs": []
    },
    {
      "cell_type": "code",
      "source": [
        "# Load the original and processed videos\n",
        "original_video_path = \"/content/D02_20240705162958 (online-video-cutter.com).mp4\"\n",
        "processed_video_path = \"/content/D02_20240705162958 (online-video-cutter.com) output.mp4\"\n",
        "\n",
        "original_video = cv2.VideoCapture(original_video_path)\n",
        "processed_video = cv2.VideoCapture(processed_video_path)\n",
        "\n",
        "# Variables to accumulate PSNR and SSIM values\n",
        "cumulative_psnr = 0\n",
        "cumulative_ssim = 0\n",
        "frame_count = 0\n",
        "\n",
        "# Loop through each frame\n",
        "while True:\n",
        "    ret1, original_frame = original_video.read()\n",
        "    ret2, processed_frame = processed_video.read()\n",
        "\n",
        "    if not ret1 or not ret2:\n",
        "        break  # Break if no more frames\n",
        "\n",
        "    # Calculate PSNR and SSIM for each frame\n",
        "    psnr_value = calculate_psnr(original_frame, processed_frame)\n",
        "    ssim_value = calculate_ssim(original_frame, processed_frame)\n",
        "\n",
        "    # Accumulate values\n",
        "    cumulative_psnr += psnr_value\n",
        "    cumulative_ssim += ssim_value\n",
        "    frame_count += 1\n",
        "\n",
        "# Calculate average PSNR and SSIM\n",
        "average_psnr = cumulative_psnr / frame_count\n",
        "average_ssim = cumulative_ssim / frame_count\n",
        "\n",
        "print(f\"Average PSNR: {average_psnr:.2f}\")\n",
        "print(f\"Average SSIM: {average_ssim:.4f}\")\n",
        "\n",
        "# Release video objects\n",
        "original_video.release()\n",
        "processed_video.release()\n"
      ],
      "metadata": {
        "id": "EA3foE4I_EKv",
        "outputId": "d8b03899-5fea-48ec-f09a-ee6be9b2c46f",
        "colab": {
          "base_uri": "https://localhost:8080/"
        }
      },
      "execution_count": null,
      "outputs": [
        {
          "output_type": "stream",
          "name": "stdout",
          "text": [
            "Average PSNR: 36.12\n",
            "Average SSIM: 0.8850\n"
          ]
        }
      ]
    }
  ]
}